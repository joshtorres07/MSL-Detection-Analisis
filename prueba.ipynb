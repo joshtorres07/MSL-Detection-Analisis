{
 "cells": [
  {
   "cell_type": "code",
   "execution_count": 1,
   "metadata": {
    "collapsed": true,
    "ExecuteTime": {
     "end_time": "2023-05-03T04:29:38.029618500Z",
     "start_time": "2023-05-03T04:29:37.699990500Z"
    }
   },
   "outputs": [],
   "source": [
    "import pandas as pd\n",
    "import numpy as np\n"
   ]
  },
  {
   "cell_type": "code",
   "execution_count": 2,
   "outputs": [],
   "source": [
    "df =  pd.read_csv('ExperimentacionFERNANDA.csv')"
   ],
   "metadata": {
    "collapsed": false,
    "ExecuteTime": {
     "end_time": "2023-05-03T04:29:38.054823300Z",
     "start_time": "2023-05-03T04:29:38.029618500Z"
    }
   }
  },
  {
   "cell_type": "code",
   "execution_count": 3,
   "outputs": [
    {
     "data": {
      "text/plain": "   Unnamed: 0 HUAWEI/5001  DISTANCIA TOTAL  #INCIDENCIAS   \n0           A           A   73.260.323.291             8  \\\n1           B           B   86.668.201.083            13   \n2          BN          BN   42.848.897.570             4   \n3           C           C   95.691.419.236            12   \n4         CME         CME  373.233.038.856            12   \n5           D           D  134.923.637.253            13   \n6           E           E   74.507.909.812             6   \n7           F           F   11.651.344.402            13   \n8           G           G   90.270.411.327             9   \n9         GRA         GRA  202.862.100.155            13   \n10          H           H   70.125.365.201             7   \n11        HLA         HLA   81.055.063.008            10   \n12          I           I   91.270.968.047             9   \n13          J           J   74.135.039.727             8   \n14          K           K   69.698.226.547             7   \n15          L           L   85.451.059.620             8   \n16          M           M   35.837.967.945             3   \n17        MAL         MAL   74.484.297.966            11   \n18          N           U   52.271.295.665             5   \n19         NO          NO   23.787.147.369             2   \n20          O           O   20.558.496.752             2   \n21          P           P   92.931.930.781             9   \n22        PDN         PDN  107.077.332.746             7   \n23          Q           D   54.307.781.982             3   \n24          R           R   83.125.867.854             9   \n25          S           S   27.283.688.238             4   \n26         SI          SI   68.384.298.800             8   \n27          T           A   83.667.102.460             5   \n28         TU          TU   52.692.572.538             4   \n29          U           U  119.670.984.381            11   \n30          V           V  149.880.593.373            13   \n31          W           W  121.050.139.224            13   \n32          X          YO   56.143.762.340             5   \n33          Y           Y  104.518.627.073             8   \n34         YO          YO  166.322.628.998            12   \n35          Z           Z   97.588.035.651             7   \n36          Ñ           U   48.425.592.957             5   \n\n                  FALSAS SAMSUNG-B/5000 DISTANCIA TOTAL.1  #INCIDENCIAS.1   \n0                  C/S/T              A    69.758.101.829               7  \\\n1                      -              B    95.162.925.216              13   \n2          B/F/M/MAL/O/V             BN    75.838.741.029              11   \n3                      M              C    99.741.257.060              12   \n4                      O            CME   353.108.924.336              12   \n5                      -              D   125.264.623.828              11   \n6                  C/O/S              E    49.438.448.032               4   \n7                      -              F     1.094.304.966              13   \n8                   X/YO              G    91.107.633.076               8   \n9                      -            GRA   185.015.883.198              13   \n10                 K/U/Ñ              H    76.006.076.707               8   \n11                     B            HLA    75.834.514.593              10   \n12                H/J/SI              I    89.846.037.010              10   \n13                   H/I              J    61.227.376.849               8   \n14                     P              P    61.810.131.830               6   \n15                   D/G              L    94.347.925.546               9   \n16      B/BN/C/F/MAL/O/U              M    57.424.006.669               7   \n17                   B/M             BN    27.878.246.950               3   \n18                 R/U/Ñ              U    37.099.305.400               4   \n19        A/D/E/F/M/N/OU              N    42.771.171.886               5   \n20  A/B/BN/GRA/M/MAL/T/U              O    77.058.130.620              12   \n21                     K              P    82.434.427.013               9   \n22                     Y            PDN    91.879.876.170               7   \n23     K/L/P/Q/TU/X/YO/Z              Q   130.929.700.453              11   \n24                     U              R    74.697.674.988               9   \n25                A/SI/T              E    42.807.233.868               5   \n26                 H/I/J              I    82.819.492.752               8   \n27           E/NO/O/T/TU              T     6.446.442.077               6   \n28             N/R/U/X/Z             TU    61.913.253.258               5   \n29                   R/Ñ              U    97.169.859.140              11   \n30                     -              V   134.990.252.074              13   \n31                     -              W   119.875.740.183              13   \n32              G/O/TU/X              X    40.681.516.852               3   \n33                   PDN              Y    87.548.649.044               8   \n34                    TU             YO   137.220.826.637              12   \n35               D/I/K/R              Z    69.043.545.562               5   \n36              N/NO/R/Ñ              N    56.923.408.890               7   \n\n            FALSAS.1 S8/5003 DISTANCIA TOTAL.2  #INCIDENCIAS.2        FALSAS.2  \n0              C/S/T       A    79.410.343.346               8           E/S/T  \n1                  -       B    87.855.873.777              13               -  \n2              B/MAL      BN    81.009.368.808              11           B/MAL  \n3                  M       C    94.709.755.722              12               M  \n4                  O     CME   399.643.668.244              12               O  \n5                  O       D   139.079.599.102              12               Z  \n6             O/S/SI       O    73.645.085.100               6        C/E/S/SI  \n7                  -       F   115.201.120.671              13               -  \n8               X/YO       G    89.753.990.859               9              YO  \n9                  -     GRA   200.710.692.139              13               -  \n10             K/N/Ñ       H    76.444.163.844               8           K/N/Ñ  \n11                 B       H    71.596.349.194               9               B  \n12            H/J/SI       I    55.637.938.852               7            J/SI  \n13               H/I       J    61.549.518.615               8            I/SI  \n14                 P       P    70.196.242.625               7               K  \n15               D/G       L    98.027.081.757               8             D/G  \n16             N/O/Ñ       M    57.949.915.605               7         HLA/O/Ñ  \n17   B/C/F/GRA/M/MAL     MAL    79.175.396.904              11           B/MAL  \n18             U/R/Ñ       U    53.841.400.285               6           R/U/Ñ  \n19          M/NO/O/X      NO    59.011.528.750               6            M/NO  \n20             C/S/T       O    91.861.443.767              13               -  \n21                 K       P    93.256.054.435               9               K  \n22                 Y     PDN   107.089.633.304               8             J/Y  \n23              TU/X       Q   137.150.250.063              10            TU/X  \n24                 U       Q   137.150.250.063              10            TU/X  \n25            A/S/SI       S    16.204.521.246               4        A/E/SI/T  \n26             H/I/J      SI    67.119.356.597               8           H/I/J  \n27            A/S/SI       T    85.446.378.849               7          A/S/SI  \n28          N/R/U/X/      TU    40.801.466.734               3  N/NO/R/U/V/X/Z  \n29                 R       U   122.722.666.940              12               R  \n30                 -       V   147.219.027.438              13               -  \n31                 -       W   125.064.952.375              13               -  \n32     G/P/Q/TU/YO/Z       X    21.725.346.711               6       G/Q/TU/YO  \n33               PDN       Y    77.305.532.504               7             PDN  \n34                TU      YO   177.318.254.176              13               -  \n35  D/I/K/NO/R/TU/YO       Z   103.009.492.884               7       D/I/K/L/R  \n36          M/NO/R/Ñ       Ñ    39.484.234.020               7        N/NO/R/U  ",
      "text/html": "<div>\n<style scoped>\n    .dataframe tbody tr th:only-of-type {\n        vertical-align: middle;\n    }\n\n    .dataframe tbody tr th {\n        vertical-align: top;\n    }\n\n    .dataframe thead th {\n        text-align: right;\n    }\n</style>\n<table border=\"1\" class=\"dataframe\">\n  <thead>\n    <tr style=\"text-align: right;\">\n      <th></th>\n      <th>Unnamed: 0</th>\n      <th>HUAWEI/5001</th>\n      <th>DISTANCIA TOTAL</th>\n      <th>#INCIDENCIAS</th>\n      <th>FALSAS</th>\n      <th>SAMSUNG-B/5000</th>\n      <th>DISTANCIA TOTAL.1</th>\n      <th>#INCIDENCIAS.1</th>\n      <th>FALSAS.1</th>\n      <th>S8/5003</th>\n      <th>DISTANCIA TOTAL.2</th>\n      <th>#INCIDENCIAS.2</th>\n      <th>FALSAS.2</th>\n    </tr>\n  </thead>\n  <tbody>\n    <tr>\n      <th>0</th>\n      <td>A</td>\n      <td>A</td>\n      <td>73.260.323.291</td>\n      <td>8</td>\n      <td>C/S/T</td>\n      <td>A</td>\n      <td>69.758.101.829</td>\n      <td>7</td>\n      <td>C/S/T</td>\n      <td>A</td>\n      <td>79.410.343.346</td>\n      <td>8</td>\n      <td>E/S/T</td>\n    </tr>\n    <tr>\n      <th>1</th>\n      <td>B</td>\n      <td>B</td>\n      <td>86.668.201.083</td>\n      <td>13</td>\n      <td>-</td>\n      <td>B</td>\n      <td>95.162.925.216</td>\n      <td>13</td>\n      <td>-</td>\n      <td>B</td>\n      <td>87.855.873.777</td>\n      <td>13</td>\n      <td>-</td>\n    </tr>\n    <tr>\n      <th>2</th>\n      <td>BN</td>\n      <td>BN</td>\n      <td>42.848.897.570</td>\n      <td>4</td>\n      <td>B/F/M/MAL/O/V</td>\n      <td>BN</td>\n      <td>75.838.741.029</td>\n      <td>11</td>\n      <td>B/MAL</td>\n      <td>BN</td>\n      <td>81.009.368.808</td>\n      <td>11</td>\n      <td>B/MAL</td>\n    </tr>\n    <tr>\n      <th>3</th>\n      <td>C</td>\n      <td>C</td>\n      <td>95.691.419.236</td>\n      <td>12</td>\n      <td>M</td>\n      <td>C</td>\n      <td>99.741.257.060</td>\n      <td>12</td>\n      <td>M</td>\n      <td>C</td>\n      <td>94.709.755.722</td>\n      <td>12</td>\n      <td>M</td>\n    </tr>\n    <tr>\n      <th>4</th>\n      <td>CME</td>\n      <td>CME</td>\n      <td>373.233.038.856</td>\n      <td>12</td>\n      <td>O</td>\n      <td>CME</td>\n      <td>353.108.924.336</td>\n      <td>12</td>\n      <td>O</td>\n      <td>CME</td>\n      <td>399.643.668.244</td>\n      <td>12</td>\n      <td>O</td>\n    </tr>\n    <tr>\n      <th>5</th>\n      <td>D</td>\n      <td>D</td>\n      <td>134.923.637.253</td>\n      <td>13</td>\n      <td>-</td>\n      <td>D</td>\n      <td>125.264.623.828</td>\n      <td>11</td>\n      <td>O</td>\n      <td>D</td>\n      <td>139.079.599.102</td>\n      <td>12</td>\n      <td>Z</td>\n    </tr>\n    <tr>\n      <th>6</th>\n      <td>E</td>\n      <td>E</td>\n      <td>74.507.909.812</td>\n      <td>6</td>\n      <td>C/O/S</td>\n      <td>E</td>\n      <td>49.438.448.032</td>\n      <td>4</td>\n      <td>O/S/SI</td>\n      <td>O</td>\n      <td>73.645.085.100</td>\n      <td>6</td>\n      <td>C/E/S/SI</td>\n    </tr>\n    <tr>\n      <th>7</th>\n      <td>F</td>\n      <td>F</td>\n      <td>11.651.344.402</td>\n      <td>13</td>\n      <td>-</td>\n      <td>F</td>\n      <td>1.094.304.966</td>\n      <td>13</td>\n      <td>-</td>\n      <td>F</td>\n      <td>115.201.120.671</td>\n      <td>13</td>\n      <td>-</td>\n    </tr>\n    <tr>\n      <th>8</th>\n      <td>G</td>\n      <td>G</td>\n      <td>90.270.411.327</td>\n      <td>9</td>\n      <td>X/YO</td>\n      <td>G</td>\n      <td>91.107.633.076</td>\n      <td>8</td>\n      <td>X/YO</td>\n      <td>G</td>\n      <td>89.753.990.859</td>\n      <td>9</td>\n      <td>YO</td>\n    </tr>\n    <tr>\n      <th>9</th>\n      <td>GRA</td>\n      <td>GRA</td>\n      <td>202.862.100.155</td>\n      <td>13</td>\n      <td>-</td>\n      <td>GRA</td>\n      <td>185.015.883.198</td>\n      <td>13</td>\n      <td>-</td>\n      <td>GRA</td>\n      <td>200.710.692.139</td>\n      <td>13</td>\n      <td>-</td>\n    </tr>\n    <tr>\n      <th>10</th>\n      <td>H</td>\n      <td>H</td>\n      <td>70.125.365.201</td>\n      <td>7</td>\n      <td>K/U/Ñ</td>\n      <td>H</td>\n      <td>76.006.076.707</td>\n      <td>8</td>\n      <td>K/N/Ñ</td>\n      <td>H</td>\n      <td>76.444.163.844</td>\n      <td>8</td>\n      <td>K/N/Ñ</td>\n    </tr>\n    <tr>\n      <th>11</th>\n      <td>HLA</td>\n      <td>HLA</td>\n      <td>81.055.063.008</td>\n      <td>10</td>\n      <td>B</td>\n      <td>HLA</td>\n      <td>75.834.514.593</td>\n      <td>10</td>\n      <td>B</td>\n      <td>H</td>\n      <td>71.596.349.194</td>\n      <td>9</td>\n      <td>B</td>\n    </tr>\n    <tr>\n      <th>12</th>\n      <td>I</td>\n      <td>I</td>\n      <td>91.270.968.047</td>\n      <td>9</td>\n      <td>H/J/SI</td>\n      <td>I</td>\n      <td>89.846.037.010</td>\n      <td>10</td>\n      <td>H/J/SI</td>\n      <td>I</td>\n      <td>55.637.938.852</td>\n      <td>7</td>\n      <td>J/SI</td>\n    </tr>\n    <tr>\n      <th>13</th>\n      <td>J</td>\n      <td>J</td>\n      <td>74.135.039.727</td>\n      <td>8</td>\n      <td>H/I</td>\n      <td>J</td>\n      <td>61.227.376.849</td>\n      <td>8</td>\n      <td>H/I</td>\n      <td>J</td>\n      <td>61.549.518.615</td>\n      <td>8</td>\n      <td>I/SI</td>\n    </tr>\n    <tr>\n      <th>14</th>\n      <td>K</td>\n      <td>K</td>\n      <td>69.698.226.547</td>\n      <td>7</td>\n      <td>P</td>\n      <td>P</td>\n      <td>61.810.131.830</td>\n      <td>6</td>\n      <td>P</td>\n      <td>P</td>\n      <td>70.196.242.625</td>\n      <td>7</td>\n      <td>K</td>\n    </tr>\n    <tr>\n      <th>15</th>\n      <td>L</td>\n      <td>L</td>\n      <td>85.451.059.620</td>\n      <td>8</td>\n      <td>D/G</td>\n      <td>L</td>\n      <td>94.347.925.546</td>\n      <td>9</td>\n      <td>D/G</td>\n      <td>L</td>\n      <td>98.027.081.757</td>\n      <td>8</td>\n      <td>D/G</td>\n    </tr>\n    <tr>\n      <th>16</th>\n      <td>M</td>\n      <td>M</td>\n      <td>35.837.967.945</td>\n      <td>3</td>\n      <td>B/BN/C/F/MAL/O/U</td>\n      <td>M</td>\n      <td>57.424.006.669</td>\n      <td>7</td>\n      <td>N/O/Ñ</td>\n      <td>M</td>\n      <td>57.949.915.605</td>\n      <td>7</td>\n      <td>HLA/O/Ñ</td>\n    </tr>\n    <tr>\n      <th>17</th>\n      <td>MAL</td>\n      <td>MAL</td>\n      <td>74.484.297.966</td>\n      <td>11</td>\n      <td>B/M</td>\n      <td>BN</td>\n      <td>27.878.246.950</td>\n      <td>3</td>\n      <td>B/C/F/GRA/M/MAL</td>\n      <td>MAL</td>\n      <td>79.175.396.904</td>\n      <td>11</td>\n      <td>B/MAL</td>\n    </tr>\n    <tr>\n      <th>18</th>\n      <td>N</td>\n      <td>U</td>\n      <td>52.271.295.665</td>\n      <td>5</td>\n      <td>R/U/Ñ</td>\n      <td>U</td>\n      <td>37.099.305.400</td>\n      <td>4</td>\n      <td>U/R/Ñ</td>\n      <td>U</td>\n      <td>53.841.400.285</td>\n      <td>6</td>\n      <td>R/U/Ñ</td>\n    </tr>\n    <tr>\n      <th>19</th>\n      <td>NO</td>\n      <td>NO</td>\n      <td>23.787.147.369</td>\n      <td>2</td>\n      <td>A/D/E/F/M/N/OU</td>\n      <td>N</td>\n      <td>42.771.171.886</td>\n      <td>5</td>\n      <td>M/NO/O/X</td>\n      <td>NO</td>\n      <td>59.011.528.750</td>\n      <td>6</td>\n      <td>M/NO</td>\n    </tr>\n    <tr>\n      <th>20</th>\n      <td>O</td>\n      <td>O</td>\n      <td>20.558.496.752</td>\n      <td>2</td>\n      <td>A/B/BN/GRA/M/MAL/T/U</td>\n      <td>O</td>\n      <td>77.058.130.620</td>\n      <td>12</td>\n      <td>C/S/T</td>\n      <td>O</td>\n      <td>91.861.443.767</td>\n      <td>13</td>\n      <td>-</td>\n    </tr>\n    <tr>\n      <th>21</th>\n      <td>P</td>\n      <td>P</td>\n      <td>92.931.930.781</td>\n      <td>9</td>\n      <td>K</td>\n      <td>P</td>\n      <td>82.434.427.013</td>\n      <td>9</td>\n      <td>K</td>\n      <td>P</td>\n      <td>93.256.054.435</td>\n      <td>9</td>\n      <td>K</td>\n    </tr>\n    <tr>\n      <th>22</th>\n      <td>PDN</td>\n      <td>PDN</td>\n      <td>107.077.332.746</td>\n      <td>7</td>\n      <td>Y</td>\n      <td>PDN</td>\n      <td>91.879.876.170</td>\n      <td>7</td>\n      <td>Y</td>\n      <td>PDN</td>\n      <td>107.089.633.304</td>\n      <td>8</td>\n      <td>J/Y</td>\n    </tr>\n    <tr>\n      <th>23</th>\n      <td>Q</td>\n      <td>D</td>\n      <td>54.307.781.982</td>\n      <td>3</td>\n      <td>K/L/P/Q/TU/X/YO/Z</td>\n      <td>Q</td>\n      <td>130.929.700.453</td>\n      <td>11</td>\n      <td>TU/X</td>\n      <td>Q</td>\n      <td>137.150.250.063</td>\n      <td>10</td>\n      <td>TU/X</td>\n    </tr>\n    <tr>\n      <th>24</th>\n      <td>R</td>\n      <td>R</td>\n      <td>83.125.867.854</td>\n      <td>9</td>\n      <td>U</td>\n      <td>R</td>\n      <td>74.697.674.988</td>\n      <td>9</td>\n      <td>U</td>\n      <td>Q</td>\n      <td>137.150.250.063</td>\n      <td>10</td>\n      <td>TU/X</td>\n    </tr>\n    <tr>\n      <th>25</th>\n      <td>S</td>\n      <td>S</td>\n      <td>27.283.688.238</td>\n      <td>4</td>\n      <td>A/SI/T</td>\n      <td>E</td>\n      <td>42.807.233.868</td>\n      <td>5</td>\n      <td>A/S/SI</td>\n      <td>S</td>\n      <td>16.204.521.246</td>\n      <td>4</td>\n      <td>A/E/SI/T</td>\n    </tr>\n    <tr>\n      <th>26</th>\n      <td>SI</td>\n      <td>SI</td>\n      <td>68.384.298.800</td>\n      <td>8</td>\n      <td>H/I/J</td>\n      <td>I</td>\n      <td>82.819.492.752</td>\n      <td>8</td>\n      <td>H/I/J</td>\n      <td>SI</td>\n      <td>67.119.356.597</td>\n      <td>8</td>\n      <td>H/I/J</td>\n    </tr>\n    <tr>\n      <th>27</th>\n      <td>T</td>\n      <td>A</td>\n      <td>83.667.102.460</td>\n      <td>5</td>\n      <td>E/NO/O/T/TU</td>\n      <td>T</td>\n      <td>6.446.442.077</td>\n      <td>6</td>\n      <td>A/S/SI</td>\n      <td>T</td>\n      <td>85.446.378.849</td>\n      <td>7</td>\n      <td>A/S/SI</td>\n    </tr>\n    <tr>\n      <th>28</th>\n      <td>TU</td>\n      <td>TU</td>\n      <td>52.692.572.538</td>\n      <td>4</td>\n      <td>N/R/U/X/Z</td>\n      <td>TU</td>\n      <td>61.913.253.258</td>\n      <td>5</td>\n      <td>N/R/U/X/</td>\n      <td>TU</td>\n      <td>40.801.466.734</td>\n      <td>3</td>\n      <td>N/NO/R/U/V/X/Z</td>\n    </tr>\n    <tr>\n      <th>29</th>\n      <td>U</td>\n      <td>U</td>\n      <td>119.670.984.381</td>\n      <td>11</td>\n      <td>R/Ñ</td>\n      <td>U</td>\n      <td>97.169.859.140</td>\n      <td>11</td>\n      <td>R</td>\n      <td>U</td>\n      <td>122.722.666.940</td>\n      <td>12</td>\n      <td>R</td>\n    </tr>\n    <tr>\n      <th>30</th>\n      <td>V</td>\n      <td>V</td>\n      <td>149.880.593.373</td>\n      <td>13</td>\n      <td>-</td>\n      <td>V</td>\n      <td>134.990.252.074</td>\n      <td>13</td>\n      <td>-</td>\n      <td>V</td>\n      <td>147.219.027.438</td>\n      <td>13</td>\n      <td>-</td>\n    </tr>\n    <tr>\n      <th>31</th>\n      <td>W</td>\n      <td>W</td>\n      <td>121.050.139.224</td>\n      <td>13</td>\n      <td>-</td>\n      <td>W</td>\n      <td>119.875.740.183</td>\n      <td>13</td>\n      <td>-</td>\n      <td>W</td>\n      <td>125.064.952.375</td>\n      <td>13</td>\n      <td>-</td>\n    </tr>\n    <tr>\n      <th>32</th>\n      <td>X</td>\n      <td>YO</td>\n      <td>56.143.762.340</td>\n      <td>5</td>\n      <td>G/O/TU/X</td>\n      <td>X</td>\n      <td>40.681.516.852</td>\n      <td>3</td>\n      <td>G/P/Q/TU/YO/Z</td>\n      <td>X</td>\n      <td>21.725.346.711</td>\n      <td>6</td>\n      <td>G/Q/TU/YO</td>\n    </tr>\n    <tr>\n      <th>33</th>\n      <td>Y</td>\n      <td>Y</td>\n      <td>104.518.627.073</td>\n      <td>8</td>\n      <td>PDN</td>\n      <td>Y</td>\n      <td>87.548.649.044</td>\n      <td>8</td>\n      <td>PDN</td>\n      <td>Y</td>\n      <td>77.305.532.504</td>\n      <td>7</td>\n      <td>PDN</td>\n    </tr>\n    <tr>\n      <th>34</th>\n      <td>YO</td>\n      <td>YO</td>\n      <td>166.322.628.998</td>\n      <td>12</td>\n      <td>TU</td>\n      <td>YO</td>\n      <td>137.220.826.637</td>\n      <td>12</td>\n      <td>TU</td>\n      <td>YO</td>\n      <td>177.318.254.176</td>\n      <td>13</td>\n      <td>-</td>\n    </tr>\n    <tr>\n      <th>35</th>\n      <td>Z</td>\n      <td>Z</td>\n      <td>97.588.035.651</td>\n      <td>7</td>\n      <td>D/I/K/R</td>\n      <td>Z</td>\n      <td>69.043.545.562</td>\n      <td>5</td>\n      <td>D/I/K/NO/R/TU/YO</td>\n      <td>Z</td>\n      <td>103.009.492.884</td>\n      <td>7</td>\n      <td>D/I/K/L/R</td>\n    </tr>\n    <tr>\n      <th>36</th>\n      <td>Ñ</td>\n      <td>U</td>\n      <td>48.425.592.957</td>\n      <td>5</td>\n      <td>N/NO/R/Ñ</td>\n      <td>N</td>\n      <td>56.923.408.890</td>\n      <td>7</td>\n      <td>M/NO/R/Ñ</td>\n      <td>Ñ</td>\n      <td>39.484.234.020</td>\n      <td>7</td>\n      <td>N/NO/R/U</td>\n    </tr>\n  </tbody>\n</table>\n</div>"
     },
     "execution_count": 3,
     "metadata": {},
     "output_type": "execute_result"
    }
   ],
   "source": [
    "df"
   ],
   "metadata": {
    "collapsed": false,
    "ExecuteTime": {
     "end_time": "2023-05-03T04:29:38.079249500Z",
     "start_time": "2023-05-03T04:29:38.049185100Z"
    }
   }
  },
  {
   "cell_type": "code",
   "execution_count": 4,
   "outputs": [
    {
     "name": "stdout",
     "output_type": "stream",
     "text": [
      "<class 'pandas.core.frame.DataFrame'>\n",
      "RangeIndex: 37 entries, 0 to 36\n",
      "Data columns (total 13 columns):\n",
      " #   Column             Non-Null Count  Dtype \n",
      "---  ------             --------------  ----- \n",
      " 0   Unnamed: 0         37 non-null     object\n",
      " 1   HUAWEI/5001        37 non-null     object\n",
      " 2   DISTANCIA TOTAL    37 non-null     object\n",
      " 3   #INCIDENCIAS       37 non-null     int64 \n",
      " 4   FALSAS             37 non-null     object\n",
      " 5   SAMSUNG-B/5000     37 non-null     object\n",
      " 6   DISTANCIA TOTAL.1  37 non-null     object\n",
      " 7   #INCIDENCIAS.1     37 non-null     int64 \n",
      " 8   FALSAS.1           37 non-null     object\n",
      " 9   S8/5003            37 non-null     object\n",
      " 10  DISTANCIA TOTAL.2  37 non-null     object\n",
      " 11  #INCIDENCIAS.2     37 non-null     int64 \n",
      " 12  FALSAS.2           37 non-null     object\n",
      "dtypes: int64(3), object(10)\n",
      "memory usage: 3.9+ KB\n"
     ]
    }
   ],
   "source": [
    "df.info()"
   ],
   "metadata": {
    "collapsed": false,
    "ExecuteTime": {
     "end_time": "2023-05-03T04:29:38.106285600Z",
     "start_time": "2023-05-03T04:29:38.061934600Z"
    }
   }
  },
  {
   "cell_type": "code",
   "execution_count": 5,
   "outputs": [],
   "source": [
    "# Elimina el primer punto y ultimo punto de las columnas \"Distancia\"\n",
    "df['DISTANCIA TOTAL'] = df['DISTANCIA TOTAL'].str.replace('.', '', 1)\n",
    "df['DISTANCIA TOTAL.1'] = df['DISTANCIA TOTAL.1'].str.replace('.', '', 1)\n",
    "df['DISTANCIA TOTAL.2'] = df['DISTANCIA TOTAL.2'].str.replace('.', '', 1)\n",
    "df['DISTANCIA TOTAL'] = df['DISTANCIA TOTAL'].apply(lambda x: x.rsplit(\".\", 1)[0])\n",
    "df['DISTANCIA TOTAL.1'] = df['DISTANCIA TOTAL.1'].apply(lambda x: x.rsplit(\".\", 1)[0])\n",
    "df['DISTANCIA TOTAL.2'] = df['DISTANCIA TOTAL.2'].apply(lambda x: x.rsplit(\".\", 1)[0])\n",
    "\n"
   ],
   "metadata": {
    "collapsed": false,
    "ExecuteTime": {
     "end_time": "2023-05-03T04:29:38.124853800Z",
     "start_time": "2023-05-03T04:29:38.075249900Z"
    }
   }
  },
  {
   "cell_type": "code",
   "execution_count": 6,
   "outputs": [
    {
     "data": {
      "text/plain": "   Unnamed: 0 HUAWEI/5001 DISTANCIA TOTAL  #INCIDENCIAS                FALSAS   \n0           A           A       73260.323             8                 C/S/T  \\\n1           B           B       86668.201            13                     -   \n2          BN          BN       42848.897             4         B/F/M/MAL/O/V   \n3           C           C       95691.419            12                     M   \n4         CME         CME      373233.038            12                     O   \n5           D           D      134923.637            13                     -   \n6           E           E       74507.909             6                 C/O/S   \n7           F           F       11651.344            13                     -   \n8           G           G       90270.411             9                  X/YO   \n9         GRA         GRA      202862.100            13                     -   \n10          H           H       70125.365             7                 K/U/Ñ   \n11        HLA         HLA       81055.063            10                     B   \n12          I           I       91270.968             9                H/J/SI   \n13          J           J       74135.039             8                   H/I   \n14          K           K       69698.226             7                     P   \n15          L           L       85451.059             8                   D/G   \n16          M           M       35837.967             3      B/BN/C/F/MAL/O/U   \n17        MAL         MAL       74484.297            11                   B/M   \n18          N           U       52271.295             5                 R/U/Ñ   \n19         NO          NO       23787.147             2        A/D/E/F/M/N/OU   \n20          O           O       20558.496             2  A/B/BN/GRA/M/MAL/T/U   \n21          P           P       92931.930             9                     K   \n22        PDN         PDN      107077.332             7                     Y   \n23          Q           D       54307.781             3     K/L/P/Q/TU/X/YO/Z   \n24          R           R       83125.867             9                     U   \n25          S           S       27283.688             4                A/SI/T   \n26         SI          SI       68384.298             8                 H/I/J   \n27          T           A       83667.102             5           E/NO/O/T/TU   \n28         TU          TU       52692.572             4             N/R/U/X/Z   \n29          U           U      119670.984            11                   R/Ñ   \n30          V           V      149880.593            13                     -   \n31          W           W      121050.139            13                     -   \n32          X          YO       56143.762             5              G/O/TU/X   \n33          Y           Y      104518.627             8                   PDN   \n34         YO          YO      166322.628            12                    TU   \n35          Z           Z       97588.035             7               D/I/K/R   \n36          Ñ           U       48425.592             5              N/NO/R/Ñ   \n\n   SAMSUNG-B/5000 DISTANCIA TOTAL.1  #INCIDENCIAS.1          FALSAS.1 S8/5003   \n0               A         69758.101               7             C/S/T       A  \\\n1               B         95162.925              13                 -       B   \n2              BN         75838.741              11             B/MAL      BN   \n3               C         99741.257              12                 M       C   \n4             CME        353108.924              12                 O     CME   \n5               D        125264.623              11                 O       D   \n6               E         49438.448               4            O/S/SI       O   \n7               F          1094.304              13                 -       F   \n8               G         91107.633               8              X/YO       G   \n9             GRA        185015.883              13                 -     GRA   \n10              H         76006.076               8             K/N/Ñ       H   \n11            HLA         75834.514              10                 B       H   \n12              I         89846.037              10            H/J/SI       I   \n13              J         61227.376               8               H/I       J   \n14              P         61810.131               6                 P       P   \n15              L         94347.925               9               D/G       L   \n16              M         57424.006               7             N/O/Ñ       M   \n17             BN         27878.246               3   B/C/F/GRA/M/MAL     MAL   \n18              U         37099.305               4             U/R/Ñ       U   \n19              N         42771.171               5          M/NO/O/X      NO   \n20              O         77058.130              12             C/S/T       O   \n21              P         82434.427               9                 K       P   \n22            PDN         91879.876               7                 Y     PDN   \n23              Q        130929.700              11              TU/X       Q   \n24              R         74697.674               9                 U       Q   \n25              E         42807.233               5            A/S/SI       S   \n26              I         82819.492               8             H/I/J      SI   \n27              T          6446.442               6            A/S/SI       T   \n28             TU         61913.253               5          N/R/U/X/      TU   \n29              U         97169.859              11                 R       U   \n30              V        134990.252              13                 -       V   \n31              W        119875.740              13                 -       W   \n32              X         40681.516               3     G/P/Q/TU/YO/Z       X   \n33              Y         87548.649               8               PDN       Y   \n34             YO        137220.826              12                TU      YO   \n35              Z         69043.545               5  D/I/K/NO/R/TU/YO       Z   \n36              N         56923.408               7          M/NO/R/Ñ       Ñ   \n\n   DISTANCIA TOTAL.2  #INCIDENCIAS.2        FALSAS.2  \n0          79410.343               8           E/S/T  \n1          87855.873              13               -  \n2          81009.368              11           B/MAL  \n3          94709.755              12               M  \n4         399643.668              12               O  \n5         139079.599              12               Z  \n6          73645.085               6        C/E/S/SI  \n7         115201.120              13               -  \n8          89753.990               9              YO  \n9         200710.692              13               -  \n10         76444.163               8           K/N/Ñ  \n11         71596.349               9               B  \n12         55637.938               7            J/SI  \n13         61549.518               8            I/SI  \n14         70196.242               7               K  \n15         98027.081               8             D/G  \n16         57949.915               7         HLA/O/Ñ  \n17         79175.396              11           B/MAL  \n18         53841.400               6           R/U/Ñ  \n19         59011.528               6            M/NO  \n20         91861.443              13               -  \n21         93256.054               9               K  \n22        107089.633               8             J/Y  \n23        137150.250              10            TU/X  \n24        137150.250              10            TU/X  \n25         16204.521               4        A/E/SI/T  \n26         67119.356               8           H/I/J  \n27         85446.378               7          A/S/SI  \n28         40801.466               3  N/NO/R/U/V/X/Z  \n29        122722.666              12               R  \n30        147219.027              13               -  \n31        125064.952              13               -  \n32         21725.346               6       G/Q/TU/YO  \n33         77305.532               7             PDN  \n34        177318.254              13               -  \n35        103009.492               7       D/I/K/L/R  \n36         39484.234               7        N/NO/R/U  ",
      "text/html": "<div>\n<style scoped>\n    .dataframe tbody tr th:only-of-type {\n        vertical-align: middle;\n    }\n\n    .dataframe tbody tr th {\n        vertical-align: top;\n    }\n\n    .dataframe thead th {\n        text-align: right;\n    }\n</style>\n<table border=\"1\" class=\"dataframe\">\n  <thead>\n    <tr style=\"text-align: right;\">\n      <th></th>\n      <th>Unnamed: 0</th>\n      <th>HUAWEI/5001</th>\n      <th>DISTANCIA TOTAL</th>\n      <th>#INCIDENCIAS</th>\n      <th>FALSAS</th>\n      <th>SAMSUNG-B/5000</th>\n      <th>DISTANCIA TOTAL.1</th>\n      <th>#INCIDENCIAS.1</th>\n      <th>FALSAS.1</th>\n      <th>S8/5003</th>\n      <th>DISTANCIA TOTAL.2</th>\n      <th>#INCIDENCIAS.2</th>\n      <th>FALSAS.2</th>\n    </tr>\n  </thead>\n  <tbody>\n    <tr>\n      <th>0</th>\n      <td>A</td>\n      <td>A</td>\n      <td>73260.323</td>\n      <td>8</td>\n      <td>C/S/T</td>\n      <td>A</td>\n      <td>69758.101</td>\n      <td>7</td>\n      <td>C/S/T</td>\n      <td>A</td>\n      <td>79410.343</td>\n      <td>8</td>\n      <td>E/S/T</td>\n    </tr>\n    <tr>\n      <th>1</th>\n      <td>B</td>\n      <td>B</td>\n      <td>86668.201</td>\n      <td>13</td>\n      <td>-</td>\n      <td>B</td>\n      <td>95162.925</td>\n      <td>13</td>\n      <td>-</td>\n      <td>B</td>\n      <td>87855.873</td>\n      <td>13</td>\n      <td>-</td>\n    </tr>\n    <tr>\n      <th>2</th>\n      <td>BN</td>\n      <td>BN</td>\n      <td>42848.897</td>\n      <td>4</td>\n      <td>B/F/M/MAL/O/V</td>\n      <td>BN</td>\n      <td>75838.741</td>\n      <td>11</td>\n      <td>B/MAL</td>\n      <td>BN</td>\n      <td>81009.368</td>\n      <td>11</td>\n      <td>B/MAL</td>\n    </tr>\n    <tr>\n      <th>3</th>\n      <td>C</td>\n      <td>C</td>\n      <td>95691.419</td>\n      <td>12</td>\n      <td>M</td>\n      <td>C</td>\n      <td>99741.257</td>\n      <td>12</td>\n      <td>M</td>\n      <td>C</td>\n      <td>94709.755</td>\n      <td>12</td>\n      <td>M</td>\n    </tr>\n    <tr>\n      <th>4</th>\n      <td>CME</td>\n      <td>CME</td>\n      <td>373233.038</td>\n      <td>12</td>\n      <td>O</td>\n      <td>CME</td>\n      <td>353108.924</td>\n      <td>12</td>\n      <td>O</td>\n      <td>CME</td>\n      <td>399643.668</td>\n      <td>12</td>\n      <td>O</td>\n    </tr>\n    <tr>\n      <th>5</th>\n      <td>D</td>\n      <td>D</td>\n      <td>134923.637</td>\n      <td>13</td>\n      <td>-</td>\n      <td>D</td>\n      <td>125264.623</td>\n      <td>11</td>\n      <td>O</td>\n      <td>D</td>\n      <td>139079.599</td>\n      <td>12</td>\n      <td>Z</td>\n    </tr>\n    <tr>\n      <th>6</th>\n      <td>E</td>\n      <td>E</td>\n      <td>74507.909</td>\n      <td>6</td>\n      <td>C/O/S</td>\n      <td>E</td>\n      <td>49438.448</td>\n      <td>4</td>\n      <td>O/S/SI</td>\n      <td>O</td>\n      <td>73645.085</td>\n      <td>6</td>\n      <td>C/E/S/SI</td>\n    </tr>\n    <tr>\n      <th>7</th>\n      <td>F</td>\n      <td>F</td>\n      <td>11651.344</td>\n      <td>13</td>\n      <td>-</td>\n      <td>F</td>\n      <td>1094.304</td>\n      <td>13</td>\n      <td>-</td>\n      <td>F</td>\n      <td>115201.120</td>\n      <td>13</td>\n      <td>-</td>\n    </tr>\n    <tr>\n      <th>8</th>\n      <td>G</td>\n      <td>G</td>\n      <td>90270.411</td>\n      <td>9</td>\n      <td>X/YO</td>\n      <td>G</td>\n      <td>91107.633</td>\n      <td>8</td>\n      <td>X/YO</td>\n      <td>G</td>\n      <td>89753.990</td>\n      <td>9</td>\n      <td>YO</td>\n    </tr>\n    <tr>\n      <th>9</th>\n      <td>GRA</td>\n      <td>GRA</td>\n      <td>202862.100</td>\n      <td>13</td>\n      <td>-</td>\n      <td>GRA</td>\n      <td>185015.883</td>\n      <td>13</td>\n      <td>-</td>\n      <td>GRA</td>\n      <td>200710.692</td>\n      <td>13</td>\n      <td>-</td>\n    </tr>\n    <tr>\n      <th>10</th>\n      <td>H</td>\n      <td>H</td>\n      <td>70125.365</td>\n      <td>7</td>\n      <td>K/U/Ñ</td>\n      <td>H</td>\n      <td>76006.076</td>\n      <td>8</td>\n      <td>K/N/Ñ</td>\n      <td>H</td>\n      <td>76444.163</td>\n      <td>8</td>\n      <td>K/N/Ñ</td>\n    </tr>\n    <tr>\n      <th>11</th>\n      <td>HLA</td>\n      <td>HLA</td>\n      <td>81055.063</td>\n      <td>10</td>\n      <td>B</td>\n      <td>HLA</td>\n      <td>75834.514</td>\n      <td>10</td>\n      <td>B</td>\n      <td>H</td>\n      <td>71596.349</td>\n      <td>9</td>\n      <td>B</td>\n    </tr>\n    <tr>\n      <th>12</th>\n      <td>I</td>\n      <td>I</td>\n      <td>91270.968</td>\n      <td>9</td>\n      <td>H/J/SI</td>\n      <td>I</td>\n      <td>89846.037</td>\n      <td>10</td>\n      <td>H/J/SI</td>\n      <td>I</td>\n      <td>55637.938</td>\n      <td>7</td>\n      <td>J/SI</td>\n    </tr>\n    <tr>\n      <th>13</th>\n      <td>J</td>\n      <td>J</td>\n      <td>74135.039</td>\n      <td>8</td>\n      <td>H/I</td>\n      <td>J</td>\n      <td>61227.376</td>\n      <td>8</td>\n      <td>H/I</td>\n      <td>J</td>\n      <td>61549.518</td>\n      <td>8</td>\n      <td>I/SI</td>\n    </tr>\n    <tr>\n      <th>14</th>\n      <td>K</td>\n      <td>K</td>\n      <td>69698.226</td>\n      <td>7</td>\n      <td>P</td>\n      <td>P</td>\n      <td>61810.131</td>\n      <td>6</td>\n      <td>P</td>\n      <td>P</td>\n      <td>70196.242</td>\n      <td>7</td>\n      <td>K</td>\n    </tr>\n    <tr>\n      <th>15</th>\n      <td>L</td>\n      <td>L</td>\n      <td>85451.059</td>\n      <td>8</td>\n      <td>D/G</td>\n      <td>L</td>\n      <td>94347.925</td>\n      <td>9</td>\n      <td>D/G</td>\n      <td>L</td>\n      <td>98027.081</td>\n      <td>8</td>\n      <td>D/G</td>\n    </tr>\n    <tr>\n      <th>16</th>\n      <td>M</td>\n      <td>M</td>\n      <td>35837.967</td>\n      <td>3</td>\n      <td>B/BN/C/F/MAL/O/U</td>\n      <td>M</td>\n      <td>57424.006</td>\n      <td>7</td>\n      <td>N/O/Ñ</td>\n      <td>M</td>\n      <td>57949.915</td>\n      <td>7</td>\n      <td>HLA/O/Ñ</td>\n    </tr>\n    <tr>\n      <th>17</th>\n      <td>MAL</td>\n      <td>MAL</td>\n      <td>74484.297</td>\n      <td>11</td>\n      <td>B/M</td>\n      <td>BN</td>\n      <td>27878.246</td>\n      <td>3</td>\n      <td>B/C/F/GRA/M/MAL</td>\n      <td>MAL</td>\n      <td>79175.396</td>\n      <td>11</td>\n      <td>B/MAL</td>\n    </tr>\n    <tr>\n      <th>18</th>\n      <td>N</td>\n      <td>U</td>\n      <td>52271.295</td>\n      <td>5</td>\n      <td>R/U/Ñ</td>\n      <td>U</td>\n      <td>37099.305</td>\n      <td>4</td>\n      <td>U/R/Ñ</td>\n      <td>U</td>\n      <td>53841.400</td>\n      <td>6</td>\n      <td>R/U/Ñ</td>\n    </tr>\n    <tr>\n      <th>19</th>\n      <td>NO</td>\n      <td>NO</td>\n      <td>23787.147</td>\n      <td>2</td>\n      <td>A/D/E/F/M/N/OU</td>\n      <td>N</td>\n      <td>42771.171</td>\n      <td>5</td>\n      <td>M/NO/O/X</td>\n      <td>NO</td>\n      <td>59011.528</td>\n      <td>6</td>\n      <td>M/NO</td>\n    </tr>\n    <tr>\n      <th>20</th>\n      <td>O</td>\n      <td>O</td>\n      <td>20558.496</td>\n      <td>2</td>\n      <td>A/B/BN/GRA/M/MAL/T/U</td>\n      <td>O</td>\n      <td>77058.130</td>\n      <td>12</td>\n      <td>C/S/T</td>\n      <td>O</td>\n      <td>91861.443</td>\n      <td>13</td>\n      <td>-</td>\n    </tr>\n    <tr>\n      <th>21</th>\n      <td>P</td>\n      <td>P</td>\n      <td>92931.930</td>\n      <td>9</td>\n      <td>K</td>\n      <td>P</td>\n      <td>82434.427</td>\n      <td>9</td>\n      <td>K</td>\n      <td>P</td>\n      <td>93256.054</td>\n      <td>9</td>\n      <td>K</td>\n    </tr>\n    <tr>\n      <th>22</th>\n      <td>PDN</td>\n      <td>PDN</td>\n      <td>107077.332</td>\n      <td>7</td>\n      <td>Y</td>\n      <td>PDN</td>\n      <td>91879.876</td>\n      <td>7</td>\n      <td>Y</td>\n      <td>PDN</td>\n      <td>107089.633</td>\n      <td>8</td>\n      <td>J/Y</td>\n    </tr>\n    <tr>\n      <th>23</th>\n      <td>Q</td>\n      <td>D</td>\n      <td>54307.781</td>\n      <td>3</td>\n      <td>K/L/P/Q/TU/X/YO/Z</td>\n      <td>Q</td>\n      <td>130929.700</td>\n      <td>11</td>\n      <td>TU/X</td>\n      <td>Q</td>\n      <td>137150.250</td>\n      <td>10</td>\n      <td>TU/X</td>\n    </tr>\n    <tr>\n      <th>24</th>\n      <td>R</td>\n      <td>R</td>\n      <td>83125.867</td>\n      <td>9</td>\n      <td>U</td>\n      <td>R</td>\n      <td>74697.674</td>\n      <td>9</td>\n      <td>U</td>\n      <td>Q</td>\n      <td>137150.250</td>\n      <td>10</td>\n      <td>TU/X</td>\n    </tr>\n    <tr>\n      <th>25</th>\n      <td>S</td>\n      <td>S</td>\n      <td>27283.688</td>\n      <td>4</td>\n      <td>A/SI/T</td>\n      <td>E</td>\n      <td>42807.233</td>\n      <td>5</td>\n      <td>A/S/SI</td>\n      <td>S</td>\n      <td>16204.521</td>\n      <td>4</td>\n      <td>A/E/SI/T</td>\n    </tr>\n    <tr>\n      <th>26</th>\n      <td>SI</td>\n      <td>SI</td>\n      <td>68384.298</td>\n      <td>8</td>\n      <td>H/I/J</td>\n      <td>I</td>\n      <td>82819.492</td>\n      <td>8</td>\n      <td>H/I/J</td>\n      <td>SI</td>\n      <td>67119.356</td>\n      <td>8</td>\n      <td>H/I/J</td>\n    </tr>\n    <tr>\n      <th>27</th>\n      <td>T</td>\n      <td>A</td>\n      <td>83667.102</td>\n      <td>5</td>\n      <td>E/NO/O/T/TU</td>\n      <td>T</td>\n      <td>6446.442</td>\n      <td>6</td>\n      <td>A/S/SI</td>\n      <td>T</td>\n      <td>85446.378</td>\n      <td>7</td>\n      <td>A/S/SI</td>\n    </tr>\n    <tr>\n      <th>28</th>\n      <td>TU</td>\n      <td>TU</td>\n      <td>52692.572</td>\n      <td>4</td>\n      <td>N/R/U/X/Z</td>\n      <td>TU</td>\n      <td>61913.253</td>\n      <td>5</td>\n      <td>N/R/U/X/</td>\n      <td>TU</td>\n      <td>40801.466</td>\n      <td>3</td>\n      <td>N/NO/R/U/V/X/Z</td>\n    </tr>\n    <tr>\n      <th>29</th>\n      <td>U</td>\n      <td>U</td>\n      <td>119670.984</td>\n      <td>11</td>\n      <td>R/Ñ</td>\n      <td>U</td>\n      <td>97169.859</td>\n      <td>11</td>\n      <td>R</td>\n      <td>U</td>\n      <td>122722.666</td>\n      <td>12</td>\n      <td>R</td>\n    </tr>\n    <tr>\n      <th>30</th>\n      <td>V</td>\n      <td>V</td>\n      <td>149880.593</td>\n      <td>13</td>\n      <td>-</td>\n      <td>V</td>\n      <td>134990.252</td>\n      <td>13</td>\n      <td>-</td>\n      <td>V</td>\n      <td>147219.027</td>\n      <td>13</td>\n      <td>-</td>\n    </tr>\n    <tr>\n      <th>31</th>\n      <td>W</td>\n      <td>W</td>\n      <td>121050.139</td>\n      <td>13</td>\n      <td>-</td>\n      <td>W</td>\n      <td>119875.740</td>\n      <td>13</td>\n      <td>-</td>\n      <td>W</td>\n      <td>125064.952</td>\n      <td>13</td>\n      <td>-</td>\n    </tr>\n    <tr>\n      <th>32</th>\n      <td>X</td>\n      <td>YO</td>\n      <td>56143.762</td>\n      <td>5</td>\n      <td>G/O/TU/X</td>\n      <td>X</td>\n      <td>40681.516</td>\n      <td>3</td>\n      <td>G/P/Q/TU/YO/Z</td>\n      <td>X</td>\n      <td>21725.346</td>\n      <td>6</td>\n      <td>G/Q/TU/YO</td>\n    </tr>\n    <tr>\n      <th>33</th>\n      <td>Y</td>\n      <td>Y</td>\n      <td>104518.627</td>\n      <td>8</td>\n      <td>PDN</td>\n      <td>Y</td>\n      <td>87548.649</td>\n      <td>8</td>\n      <td>PDN</td>\n      <td>Y</td>\n      <td>77305.532</td>\n      <td>7</td>\n      <td>PDN</td>\n    </tr>\n    <tr>\n      <th>34</th>\n      <td>YO</td>\n      <td>YO</td>\n      <td>166322.628</td>\n      <td>12</td>\n      <td>TU</td>\n      <td>YO</td>\n      <td>137220.826</td>\n      <td>12</td>\n      <td>TU</td>\n      <td>YO</td>\n      <td>177318.254</td>\n      <td>13</td>\n      <td>-</td>\n    </tr>\n    <tr>\n      <th>35</th>\n      <td>Z</td>\n      <td>Z</td>\n      <td>97588.035</td>\n      <td>7</td>\n      <td>D/I/K/R</td>\n      <td>Z</td>\n      <td>69043.545</td>\n      <td>5</td>\n      <td>D/I/K/NO/R/TU/YO</td>\n      <td>Z</td>\n      <td>103009.492</td>\n      <td>7</td>\n      <td>D/I/K/L/R</td>\n    </tr>\n    <tr>\n      <th>36</th>\n      <td>Ñ</td>\n      <td>U</td>\n      <td>48425.592</td>\n      <td>5</td>\n      <td>N/NO/R/Ñ</td>\n      <td>N</td>\n      <td>56923.408</td>\n      <td>7</td>\n      <td>M/NO/R/Ñ</td>\n      <td>Ñ</td>\n      <td>39484.234</td>\n      <td>7</td>\n      <td>N/NO/R/U</td>\n    </tr>\n  </tbody>\n</table>\n</div>"
     },
     "execution_count": 6,
     "metadata": {},
     "output_type": "execute_result"
    }
   ],
   "source": [
    "df"
   ],
   "metadata": {
    "collapsed": false,
    "ExecuteTime": {
     "end_time": "2023-05-03T04:29:38.147443100Z",
     "start_time": "2023-05-03T04:29:38.084266300Z"
    }
   }
  },
  {
   "cell_type": "code",
   "execution_count": 7,
   "outputs": [
    {
     "name": "stdout",
     "output_type": "stream",
     "text": [
      "<class 'pandas.core.frame.DataFrame'>\n",
      "RangeIndex: 37 entries, 0 to 36\n",
      "Data columns (total 13 columns):\n",
      " #   Column             Non-Null Count  Dtype \n",
      "---  ------             --------------  ----- \n",
      " 0   Unnamed: 0         37 non-null     object\n",
      " 1   HUAWEI/5001        37 non-null     object\n",
      " 2   DISTANCIA TOTAL    37 non-null     object\n",
      " 3   #INCIDENCIAS       37 non-null     int64 \n",
      " 4   FALSAS             37 non-null     object\n",
      " 5   SAMSUNG-B/5000     37 non-null     object\n",
      " 6   DISTANCIA TOTAL.1  37 non-null     object\n",
      " 7   #INCIDENCIAS.1     37 non-null     int64 \n",
      " 8   FALSAS.1           37 non-null     object\n",
      " 9   S8/5003            37 non-null     object\n",
      " 10  DISTANCIA TOTAL.2  37 non-null     object\n",
      " 11  #INCIDENCIAS.2     37 non-null     int64 \n",
      " 12  FALSAS.2           37 non-null     object\n",
      "dtypes: int64(3), object(10)\n",
      "memory usage: 3.9+ KB\n"
     ]
    }
   ],
   "source": [
    "df.info()"
   ],
   "metadata": {
    "collapsed": false,
    "ExecuteTime": {
     "end_time": "2023-05-03T04:29:38.148428400Z",
     "start_time": "2023-05-03T04:29:38.101241400Z"
    }
   }
  },
  {
   "cell_type": "code",
   "execution_count": 8,
   "outputs": [],
   "source": [
    "#cambio de datos object a float de las columnas distancia\n",
    "df['DISTANCIA TOTAL'] = df['DISTANCIA TOTAL'].astype(float)\n",
    "df['DISTANCIA TOTAL.1'] = df['DISTANCIA TOTAL.1'].astype(float)\n",
    "df['DISTANCIA TOTAL.2'] = df['DISTANCIA TOTAL.2'].astype(float)\n",
    "\n",
    "#cambio de datos object a int de las columnas incidencias\n",
    "df['#INCIDENCIAS'] = df['#INCIDENCIAS'].astype(int)\n",
    "df['#INCIDENCIAS.1'] = df['#INCIDENCIAS.1'].astype(int)\n",
    "df['#INCIDENCIAS.2'] = df['#INCIDENCIAS.2'].astype(int)"
   ],
   "metadata": {
    "collapsed": false,
    "ExecuteTime": {
     "end_time": "2023-05-03T04:29:38.148428400Z",
     "start_time": "2023-05-03T04:29:38.109872500Z"
    }
   }
  },
  {
   "cell_type": "code",
   "execution_count": 9,
   "outputs": [],
   "source": [
    "df.rename(columns={'Unnamed: 0':' SEÑA ESPERADA'}, inplace=True)"
   ],
   "metadata": {
    "collapsed": false,
    "ExecuteTime": {
     "end_time": "2023-05-03T04:29:39.006821100Z",
     "start_time": "2023-05-03T04:29:38.987782600Z"
    }
   }
  },
  {
   "cell_type": "code",
   "execution_count": 10,
   "outputs": [],
   "source": [
    "df.to_csv('Experimentacion_Fernanda.csv', index=False, encoding='latin-1')"
   ],
   "metadata": {
    "collapsed": false,
    "ExecuteTime": {
     "end_time": "2023-05-03T04:29:46.537241800Z",
     "start_time": "2023-05-03T04:29:46.527236700Z"
    }
   }
  },
  {
   "cell_type": "code",
   "execution_count": 89,
   "outputs": [],
   "source": [],
   "metadata": {
    "collapsed": false,
    "ExecuteTime": {
     "end_time": "2023-05-02T22:13:29.906419600Z",
     "start_time": "2023-05-02T22:13:29.892230Z"
    }
   }
  },
  {
   "cell_type": "code",
   "execution_count": null,
   "outputs": [],
   "source": [],
   "metadata": {
    "collapsed": false
   }
  }
 ],
 "metadata": {
  "kernelspec": {
   "display_name": "Python 3",
   "language": "python",
   "name": "python3"
  },
  "language_info": {
   "codemirror_mode": {
    "name": "ipython",
    "version": 2
   },
   "file_extension": ".py",
   "mimetype": "text/x-python",
   "name": "python",
   "nbconvert_exporter": "python",
   "pygments_lexer": "ipython2",
   "version": "2.7.6"
  }
 },
 "nbformat": 4,
 "nbformat_minor": 0
}

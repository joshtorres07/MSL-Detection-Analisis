{
 "cells": [
  {
   "cell_type": "code",
   "execution_count": 1,
   "metadata": {
    "collapsed": true,
    "ExecuteTime": {
     "end_time": "2023-05-16T20:55:23.270372800Z",
     "start_time": "2023-05-16T20:55:22.702138600Z"
    }
   },
   "outputs": [],
   "source": [
    "import seaborn as sns\n",
    "import  pandas as pd\n",
    "import  numpy as np\n",
    "from sklearn.model_selection import train_test_split\n",
    "from sklearn.metrics import roc_auc_score, precision_score, recall_score, accuracy_score\n",
    "from sklearn.preprocessing import LabelEncoder\n"
   ]
  },
  {
   "cell_type": "code",
   "execution_count": 2,
   "outputs": [],
   "source": [
    "signTypes = pd.read_csv(\"signTypes.csv\", encoding='latin-1')"
   ],
   "metadata": {
    "collapsed": false,
    "ExecuteTime": {
     "end_time": "2023-05-16T20:55:23.277369300Z",
     "start_time": "2023-05-16T20:55:23.258457300Z"
    }
   }
  },
  {
   "cell_type": "code",
   "execution_count": 4,
   "outputs": [
    {
     "data": {
      "text/plain": "   SEÑA ESPERADA  HUAWEI/5001  DISTANCIA TOTAL  #INCIDENCIAS  SAMSUNG-B/5000   \n0              A            5     5.061517e+05            50               5  \\\n1              B            5     3.183026e+05            48               3   \n2             BN            5     5.801136e+05            45               5   \n3              C            2     3.797425e+05            43               5   \n4            CME            5     1.915784e+06            62               5   \n5              D            5     7.870783e+05            64               5   \n6              E            5     5.838656e+05            45               5   \n7              F            5     4.060792e+05            57               5   \n8              G            5     5.325505e+05            56               5   \n9            GRA            4     1.297981e+06            65               5   \n10             H            5     5.278867e+05            50               5   \n11           HLA            4     3.043790e+05            35               1   \n12             I            5     4.917049e+05            44               5   \n13             J            5     3.500891e+05            34               5   \n14             K            4     4.442463e+05            35               4   \n15             L            5     6.798113e+05            60               5   \n16             M            1     2.488484e+05            30               1   \n17           MAL            5     4.269022e+05            63               4   \n18             N            4     3.394954e+05            34               4   \n19            NO            5     7.865346e+05            48               4   \n20             O            5     5.049588e+05            46               5   \n21             P            2     4.136986e+05            38               5   \n22           PDN            2     4.459997e+05            29               2   \n23             Q            1     2.482050e+05            17               1   \n24             R            5     5.135563e+05            48               5   \n25             S            4     4.679847e+05            45               4   \n26            SI            4     5.283162e+05            53               3   \n27             T            4     4.041909e+05            33               5   \n28            TU            5     3.764509e+05            29               1   \n29             U            2     4.365136e+05            43               5   \n30             V            5     5.684559e+05            65               5   \n31             W            5     6.644499e+05            65               5   \n32             X            3     2.864927e+05            25               1   \n33             Y            5     4.181494e+05            34               5   \n34            YO            5     5.418715e+05            59               5   \n35             Z            5     4.126681e+05            32               5   \n36             Ñ            0     4.986492e+05            45               0   \n\n    DISTANCIA TOTAL.1  #INCIDENCIAS.1  S8/5003  DISTANCIA TOTAL.2   \n0        4.430950e+05              46        5       4.786245e+05  \\\n1        3.560399e+05              46        5       3.665895e+05   \n2        4.302006e+05              37        4       4.947558e+05   \n3        3.537585e+05              48        5       4.671643e+05   \n4        1.284350e+06              61        5       1.922486e+06   \n5        6.116143e+05              63        5       7.150149e+05   \n6        6.219022e+05              54        4       3.268881e+05   \n7        4.736113e+05              65        5       6.786768e+05   \n8        4.629168e+05              55        5       5.775098e+05   \n9        1.025425e+06              65        5       1.534943e+06   \n10       4.904613e+05              51        5       5.082708e+05   \n11       2.794937e+05              35        4       3.165562e+05   \n12       4.072493e+05              39        5       4.478822e+05   \n13       2.884762e+05              30        1       5.521145e+05   \n14       4.033753e+05              35        4       4.382800e+05   \n15       5.768064e+05              61        5       6.296222e+05   \n16       2.395802e+05              34        5       2.429379e+05   \n17       3.511628e+05              55        5       6.002038e+05   \n18       3.103789e+05              36        4       3.602097e+05   \n19       6.863344e+05              45        4       5.644456e+05   \n20       4.179673e+05              56        4       2.925170e+05   \n21       3.918892e+05              35        5       4.718309e+05   \n22       4.263734e+05              34        1       2.472353e+05   \n23       4.241401e+05              37        2       3.587415e+05   \n24       3.560013e+05              38        4       5.444455e+05   \n25       5.869582e+05              48        5       6.695879e+05   \n26       5.304649e+05              54        4       5.233161e+05   \n27       3.536614e+05              41        5       5.293250e+05   \n28       3.964798e+05              31        2       3.606272e+05   \n29       4.215891e+05              48        5       5.781436e+05   \n30       5.402035e+05              61        5       7.422340e+05   \n31       5.850726e+05              65        2       4.889223e+05   \n32       3.120580e+05              28        1       3.653698e+05   \n33       2.191180e+05              37        5       1.018499e+06   \n34       5.771562e+05              62        5       6.899487e+05   \n35       3.499533e+05              27        2       3.831916e+05   \n36       4.014787e+05              43        1       5.468774e+05   \n\n    #INCIDENCIAS.2  TOTAL ESPERADOS  precision  Tipo  \n0               46               15     100.00     0  \n1               42               15      86.67     0  \n2               43               15      93.33     1  \n3               50               15      80.00     0  \n4               62               15     100.00     1  \n5               62               15     100.00     0  \n6               58               15      93.33     0  \n7               65               15     100.00     0  \n8               60               15     100.00     0  \n9               65               15      93.33     1  \n10              42               15     100.00     0  \n11              37               15      60.00     1  \n12              42               15     100.00     0  \n13              39               15      73.33     1  \n14              36               15      80.00     1  \n15              51               15     100.00     0  \n16              28               15      46.67     0  \n17              61               15      93.33     1  \n18              39               15      80.00     0  \n19              36               15      86.67     1  \n20              63               15      93.33     0  \n21              39               15      80.00     0  \n22              30               15      33.33     1  \n23              28               15      26.67     1  \n24              46               15      93.33     0  \n25              53               15      86.67     0  \n26              54               15      73.33     1  \n27              41               15      93.33     0  \n28              19               15      53.33     1  \n29              56               15      80.00     0  \n30              63               15     100.00     0  \n31              35               15      80.00     0  \n32              41               15      33.33     1  \n33              36               15     100.00     0  \n34              62               15     100.00     1  \n35              21               15      80.00     1  \n36              48               15       6.67     1  ",
      "text/html": "<div>\n<style scoped>\n    .dataframe tbody tr th:only-of-type {\n        vertical-align: middle;\n    }\n\n    .dataframe tbody tr th {\n        vertical-align: top;\n    }\n\n    .dataframe thead th {\n        text-align: right;\n    }\n</style>\n<table border=\"1\" class=\"dataframe\">\n  <thead>\n    <tr style=\"text-align: right;\">\n      <th></th>\n      <th>SEÑA ESPERADA</th>\n      <th>HUAWEI/5001</th>\n      <th>DISTANCIA TOTAL</th>\n      <th>#INCIDENCIAS</th>\n      <th>SAMSUNG-B/5000</th>\n      <th>DISTANCIA TOTAL.1</th>\n      <th>#INCIDENCIAS.1</th>\n      <th>S8/5003</th>\n      <th>DISTANCIA TOTAL.2</th>\n      <th>#INCIDENCIAS.2</th>\n      <th>TOTAL ESPERADOS</th>\n      <th>precision</th>\n      <th>Tipo</th>\n    </tr>\n  </thead>\n  <tbody>\n    <tr>\n      <th>0</th>\n      <td>A</td>\n      <td>5</td>\n      <td>5.061517e+05</td>\n      <td>50</td>\n      <td>5</td>\n      <td>4.430950e+05</td>\n      <td>46</td>\n      <td>5</td>\n      <td>4.786245e+05</td>\n      <td>46</td>\n      <td>15</td>\n      <td>100.00</td>\n      <td>0</td>\n    </tr>\n    <tr>\n      <th>1</th>\n      <td>B</td>\n      <td>5</td>\n      <td>3.183026e+05</td>\n      <td>48</td>\n      <td>3</td>\n      <td>3.560399e+05</td>\n      <td>46</td>\n      <td>5</td>\n      <td>3.665895e+05</td>\n      <td>42</td>\n      <td>15</td>\n      <td>86.67</td>\n      <td>0</td>\n    </tr>\n    <tr>\n      <th>2</th>\n      <td>BN</td>\n      <td>5</td>\n      <td>5.801136e+05</td>\n      <td>45</td>\n      <td>5</td>\n      <td>4.302006e+05</td>\n      <td>37</td>\n      <td>4</td>\n      <td>4.947558e+05</td>\n      <td>43</td>\n      <td>15</td>\n      <td>93.33</td>\n      <td>1</td>\n    </tr>\n    <tr>\n      <th>3</th>\n      <td>C</td>\n      <td>2</td>\n      <td>3.797425e+05</td>\n      <td>43</td>\n      <td>5</td>\n      <td>3.537585e+05</td>\n      <td>48</td>\n      <td>5</td>\n      <td>4.671643e+05</td>\n      <td>50</td>\n      <td>15</td>\n      <td>80.00</td>\n      <td>0</td>\n    </tr>\n    <tr>\n      <th>4</th>\n      <td>CME</td>\n      <td>5</td>\n      <td>1.915784e+06</td>\n      <td>62</td>\n      <td>5</td>\n      <td>1.284350e+06</td>\n      <td>61</td>\n      <td>5</td>\n      <td>1.922486e+06</td>\n      <td>62</td>\n      <td>15</td>\n      <td>100.00</td>\n      <td>1</td>\n    </tr>\n    <tr>\n      <th>5</th>\n      <td>D</td>\n      <td>5</td>\n      <td>7.870783e+05</td>\n      <td>64</td>\n      <td>5</td>\n      <td>6.116143e+05</td>\n      <td>63</td>\n      <td>5</td>\n      <td>7.150149e+05</td>\n      <td>62</td>\n      <td>15</td>\n      <td>100.00</td>\n      <td>0</td>\n    </tr>\n    <tr>\n      <th>6</th>\n      <td>E</td>\n      <td>5</td>\n      <td>5.838656e+05</td>\n      <td>45</td>\n      <td>5</td>\n      <td>6.219022e+05</td>\n      <td>54</td>\n      <td>4</td>\n      <td>3.268881e+05</td>\n      <td>58</td>\n      <td>15</td>\n      <td>93.33</td>\n      <td>0</td>\n    </tr>\n    <tr>\n      <th>7</th>\n      <td>F</td>\n      <td>5</td>\n      <td>4.060792e+05</td>\n      <td>57</td>\n      <td>5</td>\n      <td>4.736113e+05</td>\n      <td>65</td>\n      <td>5</td>\n      <td>6.786768e+05</td>\n      <td>65</td>\n      <td>15</td>\n      <td>100.00</td>\n      <td>0</td>\n    </tr>\n    <tr>\n      <th>8</th>\n      <td>G</td>\n      <td>5</td>\n      <td>5.325505e+05</td>\n      <td>56</td>\n      <td>5</td>\n      <td>4.629168e+05</td>\n      <td>55</td>\n      <td>5</td>\n      <td>5.775098e+05</td>\n      <td>60</td>\n      <td>15</td>\n      <td>100.00</td>\n      <td>0</td>\n    </tr>\n    <tr>\n      <th>9</th>\n      <td>GRA</td>\n      <td>4</td>\n      <td>1.297981e+06</td>\n      <td>65</td>\n      <td>5</td>\n      <td>1.025425e+06</td>\n      <td>65</td>\n      <td>5</td>\n      <td>1.534943e+06</td>\n      <td>65</td>\n      <td>15</td>\n      <td>93.33</td>\n      <td>1</td>\n    </tr>\n    <tr>\n      <th>10</th>\n      <td>H</td>\n      <td>5</td>\n      <td>5.278867e+05</td>\n      <td>50</td>\n      <td>5</td>\n      <td>4.904613e+05</td>\n      <td>51</td>\n      <td>5</td>\n      <td>5.082708e+05</td>\n      <td>42</td>\n      <td>15</td>\n      <td>100.00</td>\n      <td>0</td>\n    </tr>\n    <tr>\n      <th>11</th>\n      <td>HLA</td>\n      <td>4</td>\n      <td>3.043790e+05</td>\n      <td>35</td>\n      <td>1</td>\n      <td>2.794937e+05</td>\n      <td>35</td>\n      <td>4</td>\n      <td>3.165562e+05</td>\n      <td>37</td>\n      <td>15</td>\n      <td>60.00</td>\n      <td>1</td>\n    </tr>\n    <tr>\n      <th>12</th>\n      <td>I</td>\n      <td>5</td>\n      <td>4.917049e+05</td>\n      <td>44</td>\n      <td>5</td>\n      <td>4.072493e+05</td>\n      <td>39</td>\n      <td>5</td>\n      <td>4.478822e+05</td>\n      <td>42</td>\n      <td>15</td>\n      <td>100.00</td>\n      <td>0</td>\n    </tr>\n    <tr>\n      <th>13</th>\n      <td>J</td>\n      <td>5</td>\n      <td>3.500891e+05</td>\n      <td>34</td>\n      <td>5</td>\n      <td>2.884762e+05</td>\n      <td>30</td>\n      <td>1</td>\n      <td>5.521145e+05</td>\n      <td>39</td>\n      <td>15</td>\n      <td>73.33</td>\n      <td>1</td>\n    </tr>\n    <tr>\n      <th>14</th>\n      <td>K</td>\n      <td>4</td>\n      <td>4.442463e+05</td>\n      <td>35</td>\n      <td>4</td>\n      <td>4.033753e+05</td>\n      <td>35</td>\n      <td>4</td>\n      <td>4.382800e+05</td>\n      <td>36</td>\n      <td>15</td>\n      <td>80.00</td>\n      <td>1</td>\n    </tr>\n    <tr>\n      <th>15</th>\n      <td>L</td>\n      <td>5</td>\n      <td>6.798113e+05</td>\n      <td>60</td>\n      <td>5</td>\n      <td>5.768064e+05</td>\n      <td>61</td>\n      <td>5</td>\n      <td>6.296222e+05</td>\n      <td>51</td>\n      <td>15</td>\n      <td>100.00</td>\n      <td>0</td>\n    </tr>\n    <tr>\n      <th>16</th>\n      <td>M</td>\n      <td>1</td>\n      <td>2.488484e+05</td>\n      <td>30</td>\n      <td>1</td>\n      <td>2.395802e+05</td>\n      <td>34</td>\n      <td>5</td>\n      <td>2.429379e+05</td>\n      <td>28</td>\n      <td>15</td>\n      <td>46.67</td>\n      <td>0</td>\n    </tr>\n    <tr>\n      <th>17</th>\n      <td>MAL</td>\n      <td>5</td>\n      <td>4.269022e+05</td>\n      <td>63</td>\n      <td>4</td>\n      <td>3.511628e+05</td>\n      <td>55</td>\n      <td>5</td>\n      <td>6.002038e+05</td>\n      <td>61</td>\n      <td>15</td>\n      <td>93.33</td>\n      <td>1</td>\n    </tr>\n    <tr>\n      <th>18</th>\n      <td>N</td>\n      <td>4</td>\n      <td>3.394954e+05</td>\n      <td>34</td>\n      <td>4</td>\n      <td>3.103789e+05</td>\n      <td>36</td>\n      <td>4</td>\n      <td>3.602097e+05</td>\n      <td>39</td>\n      <td>15</td>\n      <td>80.00</td>\n      <td>0</td>\n    </tr>\n    <tr>\n      <th>19</th>\n      <td>NO</td>\n      <td>5</td>\n      <td>7.865346e+05</td>\n      <td>48</td>\n      <td>4</td>\n      <td>6.863344e+05</td>\n      <td>45</td>\n      <td>4</td>\n      <td>5.644456e+05</td>\n      <td>36</td>\n      <td>15</td>\n      <td>86.67</td>\n      <td>1</td>\n    </tr>\n    <tr>\n      <th>20</th>\n      <td>O</td>\n      <td>5</td>\n      <td>5.049588e+05</td>\n      <td>46</td>\n      <td>5</td>\n      <td>4.179673e+05</td>\n      <td>56</td>\n      <td>4</td>\n      <td>2.925170e+05</td>\n      <td>63</td>\n      <td>15</td>\n      <td>93.33</td>\n      <td>0</td>\n    </tr>\n    <tr>\n      <th>21</th>\n      <td>P</td>\n      <td>2</td>\n      <td>4.136986e+05</td>\n      <td>38</td>\n      <td>5</td>\n      <td>3.918892e+05</td>\n      <td>35</td>\n      <td>5</td>\n      <td>4.718309e+05</td>\n      <td>39</td>\n      <td>15</td>\n      <td>80.00</td>\n      <td>0</td>\n    </tr>\n    <tr>\n      <th>22</th>\n      <td>PDN</td>\n      <td>2</td>\n      <td>4.459997e+05</td>\n      <td>29</td>\n      <td>2</td>\n      <td>4.263734e+05</td>\n      <td>34</td>\n      <td>1</td>\n      <td>2.472353e+05</td>\n      <td>30</td>\n      <td>15</td>\n      <td>33.33</td>\n      <td>1</td>\n    </tr>\n    <tr>\n      <th>23</th>\n      <td>Q</td>\n      <td>1</td>\n      <td>2.482050e+05</td>\n      <td>17</td>\n      <td>1</td>\n      <td>4.241401e+05</td>\n      <td>37</td>\n      <td>2</td>\n      <td>3.587415e+05</td>\n      <td>28</td>\n      <td>15</td>\n      <td>26.67</td>\n      <td>1</td>\n    </tr>\n    <tr>\n      <th>24</th>\n      <td>R</td>\n      <td>5</td>\n      <td>5.135563e+05</td>\n      <td>48</td>\n      <td>5</td>\n      <td>3.560013e+05</td>\n      <td>38</td>\n      <td>4</td>\n      <td>5.444455e+05</td>\n      <td>46</td>\n      <td>15</td>\n      <td>93.33</td>\n      <td>0</td>\n    </tr>\n    <tr>\n      <th>25</th>\n      <td>S</td>\n      <td>4</td>\n      <td>4.679847e+05</td>\n      <td>45</td>\n      <td>4</td>\n      <td>5.869582e+05</td>\n      <td>48</td>\n      <td>5</td>\n      <td>6.695879e+05</td>\n      <td>53</td>\n      <td>15</td>\n      <td>86.67</td>\n      <td>0</td>\n    </tr>\n    <tr>\n      <th>26</th>\n      <td>SI</td>\n      <td>4</td>\n      <td>5.283162e+05</td>\n      <td>53</td>\n      <td>3</td>\n      <td>5.304649e+05</td>\n      <td>54</td>\n      <td>4</td>\n      <td>5.233161e+05</td>\n      <td>54</td>\n      <td>15</td>\n      <td>73.33</td>\n      <td>1</td>\n    </tr>\n    <tr>\n      <th>27</th>\n      <td>T</td>\n      <td>4</td>\n      <td>4.041909e+05</td>\n      <td>33</td>\n      <td>5</td>\n      <td>3.536614e+05</td>\n      <td>41</td>\n      <td>5</td>\n      <td>5.293250e+05</td>\n      <td>41</td>\n      <td>15</td>\n      <td>93.33</td>\n      <td>0</td>\n    </tr>\n    <tr>\n      <th>28</th>\n      <td>TU</td>\n      <td>5</td>\n      <td>3.764509e+05</td>\n      <td>29</td>\n      <td>1</td>\n      <td>3.964798e+05</td>\n      <td>31</td>\n      <td>2</td>\n      <td>3.606272e+05</td>\n      <td>19</td>\n      <td>15</td>\n      <td>53.33</td>\n      <td>1</td>\n    </tr>\n    <tr>\n      <th>29</th>\n      <td>U</td>\n      <td>2</td>\n      <td>4.365136e+05</td>\n      <td>43</td>\n      <td>5</td>\n      <td>4.215891e+05</td>\n      <td>48</td>\n      <td>5</td>\n      <td>5.781436e+05</td>\n      <td>56</td>\n      <td>15</td>\n      <td>80.00</td>\n      <td>0</td>\n    </tr>\n    <tr>\n      <th>30</th>\n      <td>V</td>\n      <td>5</td>\n      <td>5.684559e+05</td>\n      <td>65</td>\n      <td>5</td>\n      <td>5.402035e+05</td>\n      <td>61</td>\n      <td>5</td>\n      <td>7.422340e+05</td>\n      <td>63</td>\n      <td>15</td>\n      <td>100.00</td>\n      <td>0</td>\n    </tr>\n    <tr>\n      <th>31</th>\n      <td>W</td>\n      <td>5</td>\n      <td>6.644499e+05</td>\n      <td>65</td>\n      <td>5</td>\n      <td>5.850726e+05</td>\n      <td>65</td>\n      <td>2</td>\n      <td>4.889223e+05</td>\n      <td>35</td>\n      <td>15</td>\n      <td>80.00</td>\n      <td>0</td>\n    </tr>\n    <tr>\n      <th>32</th>\n      <td>X</td>\n      <td>3</td>\n      <td>2.864927e+05</td>\n      <td>25</td>\n      <td>1</td>\n      <td>3.120580e+05</td>\n      <td>28</td>\n      <td>1</td>\n      <td>3.653698e+05</td>\n      <td>41</td>\n      <td>15</td>\n      <td>33.33</td>\n      <td>1</td>\n    </tr>\n    <tr>\n      <th>33</th>\n      <td>Y</td>\n      <td>5</td>\n      <td>4.181494e+05</td>\n      <td>34</td>\n      <td>5</td>\n      <td>2.191180e+05</td>\n      <td>37</td>\n      <td>5</td>\n      <td>1.018499e+06</td>\n      <td>36</td>\n      <td>15</td>\n      <td>100.00</td>\n      <td>0</td>\n    </tr>\n    <tr>\n      <th>34</th>\n      <td>YO</td>\n      <td>5</td>\n      <td>5.418715e+05</td>\n      <td>59</td>\n      <td>5</td>\n      <td>5.771562e+05</td>\n      <td>62</td>\n      <td>5</td>\n      <td>6.899487e+05</td>\n      <td>62</td>\n      <td>15</td>\n      <td>100.00</td>\n      <td>1</td>\n    </tr>\n    <tr>\n      <th>35</th>\n      <td>Z</td>\n      <td>5</td>\n      <td>4.126681e+05</td>\n      <td>32</td>\n      <td>5</td>\n      <td>3.499533e+05</td>\n      <td>27</td>\n      <td>2</td>\n      <td>3.831916e+05</td>\n      <td>21</td>\n      <td>15</td>\n      <td>80.00</td>\n      <td>1</td>\n    </tr>\n    <tr>\n      <th>36</th>\n      <td>Ñ</td>\n      <td>0</td>\n      <td>4.986492e+05</td>\n      <td>45</td>\n      <td>0</td>\n      <td>4.014787e+05</td>\n      <td>43</td>\n      <td>1</td>\n      <td>5.468774e+05</td>\n      <td>48</td>\n      <td>15</td>\n      <td>6.67</td>\n      <td>1</td>\n    </tr>\n  </tbody>\n</table>\n</div>"
     },
     "execution_count": 4,
     "metadata": {},
     "output_type": "execute_result"
    }
   ],
   "source": [
    "signTypes"
   ],
   "metadata": {
    "collapsed": false,
    "ExecuteTime": {
     "end_time": "2023-05-16T01:29:18.931452800Z",
     "start_time": "2023-05-16T01:29:18.911546600Z"
    }
   }
  },
  {
   "cell_type": "code",
   "execution_count": 110,
   "outputs": [],
   "source": [
    "X = signTypes.drop('Tipo', axis=1)"
   ],
   "metadata": {
    "collapsed": false,
    "ExecuteTime": {
     "end_time": "2023-05-16T01:52:52.550551900Z",
     "start_time": "2023-05-16T01:52:52.544820200Z"
    }
   }
  },
  {
   "cell_type": "code",
   "execution_count": 111,
   "outputs": [],
   "source": [
    "y =signTypes['Tipo']"
   ],
   "metadata": {
    "collapsed": false,
    "ExecuteTime": {
     "end_time": "2023-05-16T01:52:53.051216300Z",
     "start_time": "2023-05-16T01:52:53.041979Z"
    }
   }
  },
  {
   "cell_type": "code",
   "execution_count": 112,
   "outputs": [],
   "source": [
    "from sklearn.preprocessing import OneHotEncoder\n",
    "\n",
    "# Crear instancia del codificador one-hot\n",
    "encoder = OneHotEncoder()\n",
    "\n",
    "# Realizar la codificación one-hot de las variables categóricas\n",
    "X_encoded = encoder.fit_transform(X)\n",
    "\n",
    "# Continuar con el proceso de división de datos y entrenamiento del modelo\n"
   ],
   "metadata": {
    "collapsed": false,
    "ExecuteTime": {
     "end_time": "2023-05-16T01:52:53.352032400Z",
     "start_time": "2023-05-16T01:52:53.344092900Z"
    }
   }
  },
  {
   "cell_type": "code",
   "execution_count": 113,
   "outputs": [],
   "source": [
    "\n",
    "X_trainval, X_test, y_trainval, y_test = train_test_split(\n",
    "    X, y, stratify=y, test_size=.28, random_state=1)\n",
    "X_train, X_val, y_train, y_val = train_test_split(\n",
    "    X_trainval, y_trainval,\n",
    "    stratify=y_trainval, test_size=.28, random_state=1)"
   ],
   "metadata": {
    "collapsed": false,
    "ExecuteTime": {
     "end_time": "2023-05-16T01:52:53.999728200Z",
     "start_time": "2023-05-16T01:52:53.991942Z"
    }
   }
  },
  {
   "cell_type": "code",
   "execution_count": 114,
   "outputs": [
    {
     "name": "stdout",
     "output_type": "stream",
     "text": [
      "X_train shape (18, 12)\n",
      "y_train shape (18,)\n",
      "X_val shape (8, 12)\n",
      "y_val shape (8,)\n",
      "X_test shape (11, 12)\n",
      "y_test shape (11,)\n"
     ]
    }
   ],
   "source": [
    "print('X_train shape', X_train.shape)\n",
    "print('y_train shape', y_train.shape)\n",
    "print('X_val shape', X_val.shape)\n",
    "print('y_val shape', y_val.shape)\n",
    "print('X_test shape', X_test.shape)\n",
    "print('y_test shape', y_test.shape)"
   ],
   "metadata": {
    "collapsed": false,
    "ExecuteTime": {
     "end_time": "2023-05-16T01:52:54.562120100Z",
     "start_time": "2023-05-16T01:52:54.555609900Z"
    }
   }
  },
  {
   "cell_type": "code",
   "execution_count": 115,
   "outputs": [
    {
     "data": {
      "text/plain": "0.625"
     },
     "execution_count": 115,
     "metadata": {},
     "output_type": "execute_result"
    }
   ],
   "source": [
    "\n",
    "majority_class = y_train.mode()[0]\n",
    "y_pred = np.full_like(y_val, fill_value=majority_class)\n",
    "accuracy_score(y_val, y_pred)"
   ],
   "metadata": {
    "collapsed": false,
    "ExecuteTime": {
     "end_time": "2023-05-16T01:52:55.161946700Z",
     "start_time": "2023-05-16T01:52:55.139270200Z"
    }
   }
  },
  {
   "cell_type": "code",
   "execution_count": 116,
   "outputs": [],
   "source": [
    "\n",
    "from sklearn.metrics import confusion_matrix\n",
    "from sklearn.utils.multiclass import unique_labels\n",
    "\n",
    "def plot_confusion_matrix(y_true, y_pred):\n",
    "    labels = unique_labels(y_true)\n",
    "    columns = [f'Predicted {label}' for label in labels]\n",
    "    index = [f'Actual {label}' for label in labels]\n",
    "    table = pd.DataFrame(confusion_matrix(y_true, y_pred),\n",
    "                         columns=columns, index=index)\n",
    "    return sns.heatmap(table, annot=True, fmt='d', cmap='viridis')"
   ],
   "metadata": {
    "collapsed": false,
    "ExecuteTime": {
     "end_time": "2023-05-16T01:52:55.709353800Z",
     "start_time": "2023-05-16T01:52:55.703349200Z"
    }
   }
  },
  {
   "cell_type": "code",
   "execution_count": 117,
   "outputs": [
    {
     "data": {
      "text/plain": "<Axes: >"
     },
     "execution_count": 117,
     "metadata": {},
     "output_type": "execute_result"
    },
    {
     "data": {
      "text/plain": "<Figure size 640x480 with 2 Axes>",
      "image/png": "[encoded data removed]"
     },
     "metadata": {},
     "output_type": "display_data"
    }
   ],
   "source": [
    "plot_confusion_matrix(y_val, y_pred)"
   ],
   "metadata": {
    "collapsed": false,
    "ExecuteTime": {
     "end_time": "2023-05-16T01:52:56.433290900Z",
     "start_time": "2023-05-16T01:52:56.295343500Z"
    }
   }
  },
  {
   "cell_type": "code",
   "execution_count": 121,
   "outputs": [
    {
     "name": "stdout",
     "output_type": "stream",
     "text": [
      "              precision    recall  f1-score   support\n",
      "\n",
      "           0       0.71      1.00      0.83         5\n",
      "           1       1.00      0.33      0.50         3\n",
      "\n",
      "    accuracy                           0.75         8\n",
      "   macro avg       0.86      0.67      0.67         8\n",
      "weighted avg       0.82      0.75      0.71         8\n",
      "\n"
     ]
    }
   ],
   "source": [
    "\n",
    "from sklearn.metrics import classification_report\n",
    "print(classification_report(y_val, y_pred))"
   ],
   "metadata": {
    "collapsed": false,
    "ExecuteTime": {
     "end_time": "2023-05-16T01:53:06.089005300Z",
     "start_time": "2023-05-16T01:53:06.079039900Z"
    }
   }
  },
  {
   "cell_type": "code",
   "execution_count": 119,
   "outputs": [
    {
     "data": {
      "text/plain": "0.5"
     },
     "execution_count": 119,
     "metadata": {},
     "output_type": "execute_result"
    }
   ],
   "source": [
    "\n",
    "roc_auc_score(y_val,y_pred)"
   ],
   "metadata": {
    "collapsed": false,
    "ExecuteTime": {
     "end_time": "2023-05-16T01:52:58.139986Z",
     "start_time": "2023-05-16T01:52:58.131011200Z"
    }
   }
  },
  {
   "cell_type": "code",
   "execution_count": 120,
   "outputs": [
    {
     "name": "stdout",
     "output_type": "stream",
     "text": [
      "Precisión del modelo de Bosques Aleatorios: 0.75\n",
      "ROC AUC del modelo de Bosques Aleatorios: 0.7666666666666666\n"
     ]
    }
   ],
   "source": [
    "import pandas as pd\n",
    "from sklearn.model_selection import train_test_split\n",
    "from sklearn.ensemble import RandomForestClassifier\n",
    "from sklearn.metrics import accuracy_score\n",
    "from sklearn.metrics import roc_curve, auc\n",
    "\n",
    "# Cargar los datos desde el archivo CSV\n",
    "signTypes = pd.read_csv('https://raw.githubusercontent.com/joshtorres07/Big-Data-Project/main/signTypes.csv', encoding='latin-1')\n",
    "\n",
    "# Separar las características (X) y la variable objetivo (y)\n",
    "X = signTypes.drop('Tipo', axis=1)\n",
    "y = signTypes['Tipo']\n",
    "\n",
    "# Convertir las variables categóricas en variables numéricas\n",
    "X_encoded = pd.get_dummies(X)\n",
    "\n",
    "# Dividir los datos en conjuntos de entrenamiento y validación\n",
    "X_trainval, X_test, y_trainval, y_test = train_test_split(X_encoded, y, stratify=y, test_size=.28, random_state=1)\n",
    "X_train, X_val, y_train, y_val = train_test_split(X_trainval, y_trainval, stratify=y_trainval, test_size=.28, random_state=1)\n",
    "\n",
    "# Crear una instancia del clasificador de Bosques Aleatorios\n",
    "rf_classifier = RandomForestClassifier()\n",
    "\n",
    "# Entrenar el modelo utilizando el conjunto de entrenamiento\n",
    "rf_classifier.fit(X_train, y_train)\n",
    "\n",
    "# Hacer predicciones sobre el conjunto de validación\n",
    "y_pred = rf_classifier.predict(X_val)\n",
    "\n",
    "# Calcular la precisión de las predicciones\n",
    "accuracy = accuracy_score(y_val, y_pred)\n",
    "print(\"Precisión del modelo de Bosques Aleatorios:\", accuracy)\n",
    "\n",
    "# Calcular el ROC AUC\n",
    "y_prob = rf_classifier.predict_proba(X_val)[:, 1]\n",
    "fpr, tpr, thresholds = roc_curve(y_val, y_prob)\n",
    "roc_auc = auc(fpr, tpr)\n",
    "print(\"ROC AUC del modelo de Bosques Aleatorios:\", roc_auc)"
   ],
   "metadata": {
    "collapsed": false,
    "ExecuteTime": {
     "end_time": "2023-05-16T01:53:02.043204400Z",
     "start_time": "2023-05-16T01:53:01.789738900Z"
    }
   }
  },
  {
   "cell_type": "code",
   "execution_count": 123,
   "outputs": [
    {
     "name": "stdout",
     "output_type": "stream",
     "text": [
      "              precision    recall  f1-score   support\n",
      "\n",
      "           0       0.71      1.00      0.83         5\n",
      "           1       1.00      0.33      0.50         3\n",
      "\n",
      "    accuracy                           0.75         8\n",
      "   macro avg       0.86      0.67      0.67         8\n",
      "weighted avg       0.82      0.75      0.71         8\n",
      "\n"
     ]
    }
   ],
   "source": [
    "print(classification_report(y_val, y_pred))\n"
   ],
   "metadata": {
    "collapsed": false,
    "ExecuteTime": {
     "end_time": "2023-05-16T01:53:37.049414200Z",
     "start_time": "2023-05-16T01:53:37.042539200Z"
    }
   }
  },
  {
   "cell_type": "code",
   "execution_count": 124,
   "outputs": [
    {
     "data": {
      "text/plain": "<Figure size 640x480 with 1 Axes>",
      "image/png": "[encoded data removed]"
     },
     "metadata": {},
     "output_type": "display_data"
    }
   ],
   "source": [
    "import matplotlib.pyplot as plt\n",
    "# Graficar la curva ROC\n",
    "plt.figure()\n",
    "plt.plot(fpr, tpr, color='darkorange', lw=2, label='Curva ROC (área = %0.2f)' % roc_auc)\n",
    "plt.plot([0, 1], [0, 1], color='navy', lw=2, linestyle='--')\n",
    "plt.xlim([0.0, 1.0])\n",
    "plt.ylim([0.0, 1.05])\n",
    "plt.xlabel('Tasa de Falsos Positivos')\n",
    "plt.ylabel('Tasa de Verdaderos Positivos')\n",
    "plt.title('Curva ROC')\n",
    "plt.legend(loc=\"lower right\")\n",
    "plt.show()"
   ],
   "metadata": {
    "collapsed": false,
    "ExecuteTime": {
     "end_time": "2023-05-16T01:53:41.219718900Z",
     "start_time": "2023-05-16T01:53:41.075167400Z"
    }
   }
  },
  {
   "cell_type": "code",
   "execution_count": null,
   "outputs": [],
   "source": [],
   "metadata": {
    "collapsed": false
   }
  }
 ],
 "metadata": {
  "kernelspec": {
   "display_name": "Python 3",
   "language": "python",
   "name": "python3"
  },
  "language_info": {
   "codemirror_mode": {
    "name": "ipython",
    "version": 2
   },
   "file_extension": ".py",
   "mimetype": "text/x-python",
   "name": "python",
   "nbconvert_exporter": "python",
   "pygments_lexer": "ipython2",
   "version": "2.7.6"
  }
 },
 "nbformat": 4,
 "nbformat_minor": 0
}
